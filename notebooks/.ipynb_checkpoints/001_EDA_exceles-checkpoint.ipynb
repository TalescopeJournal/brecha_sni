{
 "cells": [
  {
   "cell_type": "code",
   "execution_count": 5,
   "id": "96b6d7da-678c-448b-9ba5-e0aef197336e",
   "metadata": {},
   "outputs": [],
   "source": [
    "import pandas as pd\n",
    "import glob as glob"
   ]
  },
  {
   "cell_type": "code",
   "execution_count": 6,
   "id": "125aa6ad-c987-4302-ad67-58af879ebe35",
   "metadata": {},
   "outputs": [
    {
     "data": {
      "text/plain": [
       "['../data/historicos\\\\Investigadores_vigentes_2000.xlsx',\n",
       " '../data/historicos\\\\Investigadores_vigentes_2001.xlsx',\n",
       " '../data/historicos\\\\Investigadores_vigentes_2002.xlsx',\n",
       " '../data/historicos\\\\Investigadores_vigentes_2003.xlsx',\n",
       " '../data/historicos\\\\Investigadores_vigentes_2004.xlsx',\n",
       " '../data/historicos\\\\Investigadores_vigentes_2005.xlsx',\n",
       " '../data/historicos\\\\Investigadores_vigentes_2006.xlsx',\n",
       " '../data/historicos\\\\Investigadores_vigentes_2007.xlsx',\n",
       " '../data/historicos\\\\Investigadores_vigentes_2008.xlsx',\n",
       " '../data/historicos\\\\Investigadores_vigentes_2009.xlsx',\n",
       " '../data/historicos\\\\Investigadores_vigentes_2010.xlsx',\n",
       " '../data/historicos\\\\Investigadores_vigentes_2012.xlsx',\n",
       " '../data/historicos\\\\Investigadores_vigentes_2013.xlsx',\n",
       " '../data/historicos\\\\Investigadores_vigentes_2014.xlsx',\n",
       " '../data/historicos\\\\Investigadores_Vigentes_2015.xlsx',\n",
       " '../data/historicos\\\\Investigadores_Vigentes_2016.xlsx',\n",
       " '../data/historicos\\\\Investigadores_Vigentes_2017.xlsx',\n",
       " '../data/historicos\\\\Investigadores_Vigentes_2018.xlsx',\n",
       " '../data/historicos\\\\Investigadores_Vigentes_2019.xlsx',\n",
       " '../data/historicos\\\\Investigadores_Vigentes_2020.xlsx',\n",
       " '../data/historicos\\\\Investigadores_vigentes_2023.xlsx',\n",
       " '../data/historicos\\\\Investigadore_vigentes_2011.xlsx']"
      ]
     },
     "execution_count": 6,
     "metadata": {},
     "output_type": "execute_result"
    }
   ],
   "source": [
    "archivos = glob.glob(\"../data/historicos/*.xlsx\")\n",
    "archivos"
   ]
  },
  {
   "cell_type": "code",
   "execution_count": 14,
   "id": "d4ff4c5e-a1e6-470b-972e-b6e7524387c0",
   "metadata": {},
   "outputs": [],
   "source": [
    "# columnas = [pd.read_excel(archivo).columns for archivo in archivos]\n",
    "# columnas"
   ]
  },
  {
   "cell_type": "code",
   "execution_count": 17,
   "id": "da7c4d86-71f0-4dd1-960d-4d5ecc068293",
   "metadata": {},
   "outputs": [],
   "source": [
    "dfs = []\n",
    "for archivo in archivos:\n",
    "    try:\n",
    "        anio = archivo[-9:-5]\n",
    "        df = pd.read_excel(archivo)\n",
    "        df[\"anio\"] = anio\n",
    "        dfs.append(df)\n",
    "    except:\n",
    "        print(f\"El archivo {archivo} no se pudo leer\")\n",
    "\n",
    "sni = pd.concat(dfs,ignore_index=True)\n",
    "# sni.set_index(\"AÑO\",inplace=True)"
   ]
  },
  {
   "cell_type": "code",
   "execution_count": 20,
   "id": "7fa3336c-db22-468e-9d01-b6a3aeadc420",
   "metadata": {},
   "outputs": [
    {
     "data": {
      "text/plain": [
       "array(['2000', '2001', '2002', '2003', '2004', '2005', '2006', '2007',\n",
       "       '2008', '2009', '2010', '2012', '2013', '2014', '2015', '2016',\n",
       "       '2017', '2018', '2019', '2020', '2023', '2011'], dtype=object)"
      ]
     },
     "execution_count": 20,
     "metadata": {},
     "output_type": "execute_result"
    }
   ],
   "source": [
    "sni[\"anio\"].unique()"
   ]
  },
  {
   "cell_type": "code",
   "execution_count": 21,
   "id": "4a78b7ff-7b38-44fd-8356-1b175e83b6b6",
   "metadata": {},
   "outputs": [],
   "source": [
    "sni[[\n",
    "       'NOMBRE DE LA INVESTIGADORA O INVESTIGADOR', 'NOBILIS', 'NIVEL',\n",
    "       # 'FECHA DE INICIO DE VIGENCIA', 'FECHA DE FIN DE VIGENCIA',\n",
    "       'ÁREA DEL CONOCIMIENTO', 'DISCIPLINA (a partir de 1991)',\n",
    "       'SUBDISCIPLINA (a partir de 1991)', 'ESPECIALIDAD (a partir de 1991)',\n",
    "       'INSTITUCIÓN DE ADSCRIPCIÓN (a partir de 1990)',\n",
    "       'DEPENDENCIA (a partir de 1991)',\n",
    "       'ENTIDAD FEDERATIVA ADSCRIPCIÓN\\n(a partir de 1990)',\n",
    "       'PAIS ADSCRIPCIÓN \\n(a partir de 1990)', 'CVU',\n",
    "       'NOMBRE DE LA INVESTIGADORA O DEL INVESTIGADOR', 'DISCIPLINA',\n",
    "       'SUBDISCIPLINA', 'ESPECIALIDAD', 'INSTITUCIÓN DE ADSCRIPCIÓN',\n",
    "       'DEPENDENCIA', 'ENTIDAD FEDERATIVA', 'PAIS', \n",
    "        # 'ESTÍMULO ECONÓMICO',\n",
    "       'Estímulo Económico', \n",
    "        'GRADO ACADÉMICO', 'NOMBRE DEL INVESTIGADOR',\n",
    "       'EMÉRITO', 'VIVO?', 'DEPENDENCIA DE ADSCRIPCIÓN',\n",
    "       'ENTIDAD FEDERATIVA DE ADSCRIPCIÓN', 'PAÍS DE ADSCRIPCIÓN',\"anio\"]].to_csv(\"../data/sni_2000-2023.csv\")"
   ]
  },
  {
   "cell_type": "code",
   "execution_count": 11,
   "id": "a8724743-b671-4203-ac41-398f8a9b2130",
   "metadata": {},
   "outputs": [
    {
     "data": {
      "text/plain": [
       "np.int64(209292)"
      ]
     },
     "execution_count": 11,
     "metadata": {},
     "output_type": "execute_result"
    }
   ],
   "source": [
    "sni[\"AÑO\"].isna().sum()"
   ]
  }
 ],
 "metadata": {
  "kernelspec": {
   "display_name": "Python 3 (ipykernel)",
   "language": "python",
   "name": "python3"
  },
  "language_info": {
   "codemirror_mode": {
    "name": "ipython",
    "version": 3
   },
   "file_extension": ".py",
   "mimetype": "text/x-python",
   "name": "python",
   "nbconvert_exporter": "python",
   "pygments_lexer": "ipython3",
   "version": "3.9.19"
  }
 },
 "nbformat": 4,
 "nbformat_minor": 5
}
